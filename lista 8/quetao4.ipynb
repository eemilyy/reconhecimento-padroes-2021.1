{
 "cells": [
  {
   "cell_type": "code",
   "execution_count": null,
   "metadata": {},
   "outputs": [],
   "source": [
    "import pandas as pd\n",
    "import numpy as np\n",
    "from sklearn.datasets import fetch_olivetti_faces\n",
    "from sklearn.model_selection import StratifiedKFold\n",
    "from sklearn.neighbors import KNeighborsClassifier\n",
    "from sklearn.metrics import accuracy_score\n",
    "import matplotlib.pyplot as plt\n"
   ]
  },
  {
   "cell_type": "code",
   "execution_count": null,
   "metadata": {},
   "outputs": [],
   "source": [
    "df = pd.DataFrame(data = fetch_olivetti_faces().data)\n",
    "df[\"class\"] = fetch_olivetti_faces().target\n",
    "df"
   ]
  },
  {
   "cell_type": "code",
   "execution_count": null,
   "metadata": {},
   "outputs": [],
   "source": [
    "x = df[df.columns[:-1]].to_numpy()\n",
    "y = df[df.columns[-1]].to_numpy()"
   ]
  },
  {
   "cell_type": "code",
   "execution_count": null,
   "metadata": {},
   "outputs": [],
   "source": [
    "skf = StratifiedKFold(n_splits=10)\n",
    "skf.get_n_splits(x, y)\n",
    "\n",
    "posicoes = []\n",
    "\n",
    "for train_index, test_index in skf.split(x, y):\n",
    "    #print(\"TRAIN:\", train_index, \"TEST:\", test_index)\n",
    "    x_train, x_test = x[train_index], x[test_index]\n",
    "    y_train, y_test = y[train_index], y[test_index]\n",
    "\n",
    "    knn = KNeighborsClassifier(n_neighbors=1, weights= \"distance\",metric=\"euclidean\")\n",
    "    knn.fit(x_train,y_train)\n",
    "\n",
    "    y_pred = knn.predict(x_test)\n",
    "    y_true = y_test\n",
    "    print(accuracy_score(y_true, y_pred))\n",
    "    \n",
    "    for i in range(len(y_pred)):\n",
    "        if(y_true[i] != y_pred[i]):\n",
    "            posicoes.append(i)\n",
    "            print(\"acerto\")\n",
    "            plt.imshow(x_train[i].reshape(64, 64), cmap = plt.cm.gray)\n",
    "            plt.show()\n",
    "            print(\"erro\")\n",
    "            plt.imshow(x_test[i].reshape(64, 64), cmap = plt.cm.gray)\n",
    "    #plt.imshow(x_train[posicoes[i]])\n",
    "            plt.show()\n",
    "            #plt.imshow(x_test[i].reshape(image_shape), cmap = plt.cm.gray)\n",
    "            #plt.imshow(x_train[i].reshape(image_shape), cmap = plt.cm.gray)\n",
    "\n",
    "            #print(\"DIFF\")\n",
    "            #print(x_train[i])\n",
    "\n",
    "image_shape = (64, 64)\n",
    "# figura = plt.figure(figsize = (64, 64))\n",
    "\n",
    "# for i in range(len(posicoes)):\n",
    "#     #figura.add_subplot(6, 2, i+1)\n",
    "#     plt.imshow(x_test[posicoes[i]].reshape(image_shape), cmap = plt.cm.gray)\n",
    "#     plt.imshow(x_train[posicoes[i]].reshape(image_shape), cmap = plt.cm.gray)\n",
    "#     #plt.imshow(x_train[posicoes[i]])\n",
    "#     plt.show()\n",
    "\n",
    "#print(posicoes)\n",
    "\n",
    "#plt.imshow(x_train[posicoes])\n",
    "            \n",
    "            \n",
    "\n",
    "\n"
   ]
  },
  {
   "cell_type": "code",
   "execution_count": null,
   "metadata": {},
   "outputs": [],
   "source": [
    "skf = StratifiedKFold(n_splits=10)\n",
    "skf.get_n_splits(x, y)\n",
    "\n",
    "for train_index, test_index in skf.split(x, y):\n",
    "    x_train, x_test = x[train_index], x[test_index]\n",
    "    y_train, y_test = y[train_index], y[test_index]\n",
    "\n",
    "    knn = KNeighborsClassifier(n_neighbors=1, weights= \"distance\",metric=\"euclidean\")\n",
    "    knn.fit(x_train,y_train)\n",
    "\n",
    "    y_pred = knn.predict(x_test)\n",
    "    y_true = y_test\n",
    "    print(\"Acurácia \" + str(accuracy_score(y_true, y_pred)))\n",
    "    \n",
    "    for i in range(len(y_pred)):\n",
    "        if(y_true[i] != y_pred[i]):\n",
    "            print(\"TREINO\")\n",
    "            plt.imshow(x_train[i].reshape(64, 64), cmap = plt.cm.gray)\n",
    "            plt.show()\n",
    "            print(\"TESTE\")\n",
    "            plt.imshow(x_test[i].reshape(64, 64), cmap = plt.cm.gray)\n",
    "            plt.show()\n",
    "\n",
    "\n",
    "\n"
   ]
  }
 ],
 "metadata": {
  "interpreter": {
   "hash": "916dbcbb3f70747c44a77c7bcd40155683ae19c65e1c03b4aa3499c5328201f1"
  },
  "kernelspec": {
   "display_name": "Python 3.8.10 64-bit",
   "language": "python",
   "name": "python3"
  },
  "language_info": {
   "codemirror_mode": {
    "name": "ipython",
    "version": 3
   },
   "file_extension": ".py",
   "mimetype": "text/x-python",
   "name": "python",
   "nbconvert_exporter": "python",
   "pygments_lexer": "ipython3",
   "version": "3.8.10"
  },
  "orig_nbformat": 4
 },
 "nbformat": 4,
 "nbformat_minor": 2
}
