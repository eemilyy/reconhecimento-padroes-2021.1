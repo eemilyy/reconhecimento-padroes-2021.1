{
 "cells": [
  {
   "cell_type": "code",
   "execution_count": null,
   "metadata": {},
   "outputs": [],
   "source": [
    "import pandas as pd\n",
    "import numpy as np\n",
    "from sklearn.neighbors import KNeighborsClassifier\n",
    "from sklearn.model_selection import train_test_split\n",
    "from sklearn.metrics import accuracy_score\n"
   ]
  },
  {
   "cell_type": "code",
   "execution_count": null,
   "metadata": {},
   "outputs": [],
   "source": [
    "def intervalo_confianca(acuracialista):\n",
    "    print(\"[{0:.2f};{1:.2f}]\".format(np.mean(acuracialista) - 1.96 * np.std(acuracialista, ddof = 1), np.mean(acuracialista) + 1.96 * np.std(acuracialista, ddof = 1)))\n",
    "    "
   ]
  },
  {
   "cell_type": "code",
   "execution_count": null,
   "metadata": {},
   "outputs": [],
   "source": [
    "df = pd.read_csv(\"wine.data\", header=None)\n",
    "#df.columns = [\"Classe\", \"Alcohol\",\"Malic_acid\",\"Ash\",\"Alcalinity-of-ash\",\"Magnesium\",\"Total_phenols\",\"Flavanoids\",\"Nonflavanoid_phenols\",\"Proanthocyanins\",\"Color_intensity\",\"Hue\",\"OD280/OD315\",\"Proline \"]\n",
    "df"
   ]
  },
  {
   "cell_type": "code",
   "execution_count": null,
   "metadata": {},
   "outputs": [],
   "source": [
    "acuracia = []\n",
    "\n",
    "#x,y = load_wine(return_X_y = True)\n",
    "x = df[df.columns[1::]]\n",
    "y = df[df.columns[0]]\n",
    "\n",
    "for i in range(100):\n",
    "    treinoX, testeX, treinoY, testeY = train_test_split(x,y,test_size=0.50)\n",
    "    knn = KNeighborsClassifier(n_neighbors=1, weights= \"distance\",metric=\"euclidean\")\n",
    "    knn.fit(treinoX,treinoY)\n",
    "\n",
    "    y_pred = knn.predict(testeX)\n",
    "    y_true = testeY\n",
    "    acuracia.append(accuracy_score(y_true,y_pred))\n",
    "    \n",
    "#acuracia"
   ]
  },
  {
   "cell_type": "code",
   "execution_count": null,
   "metadata": {},
   "outputs": [],
   "source": [
    "intervalo_confianca(acuracia)"
   ]
  },
  {
   "cell_type": "code",
   "execution_count": null,
   "metadata": {},
   "outputs": [],
   "source": [
    "for i in df.columns:\n",
    "    if(df.columns[i] == 0):\n",
    "        continue\n",
    "    else:\n",
    "        for j in range(178):\n",
    "                #print(df[i][j])\n",
    "                maior = df[i].max()\n",
    "                menor = df[i].min()\n",
    "                atual = df[i][j]\n",
    "                df[i][j] = (atual - menor) / (maior - menor)\n",
    "df   "
   ]
  },
  {
   "cell_type": "code",
   "execution_count": null,
   "metadata": {},
   "outputs": [],
   "source": [
    "x1 = df[df.columns[1::]]\n",
    "y1 = df[df.columns[0]]\n",
    "\n",
    "#print(x1)\n",
    "#print(y1)\n",
    "\n",
    "for i in range(100):\n",
    "    treinoX1, testeX1, treinoY1, testeY1 = train_test_split(x1,y1,test_size=0.50)\n",
    "    knn = KNeighborsClassifier(n_neighbors=1, weights= \"distance\",metric=\"euclidean\")\n",
    "    knn.fit(treinoX1,treinoY1)\n",
    "\n",
    "    y_pred = knn.predict(testeX1)\n",
    "    y_true = testeY1\n",
    "    acuracia.append(accuracy_score(y_true,y_pred))\n",
    "\n",
    "#acuracia\n",
    "\n",
    "intervalo_confianca(acuracia)"
   ]
  }
 ],
 "metadata": {
  "interpreter": {
   "hash": "916dbcbb3f70747c44a77c7bcd40155683ae19c65e1c03b4aa3499c5328201f1"
  },
  "kernelspec": {
   "display_name": "Python 3.8.10 64-bit",
   "language": "python",
   "name": "python3"
  },
  "language_info": {
   "codemirror_mode": {
    "name": "ipython",
    "version": 3
   },
   "file_extension": ".py",
   "mimetype": "text/x-python",
   "name": "python",
   "nbconvert_exporter": "python",
   "pygments_lexer": "ipython3",
   "version": "3.8.10"
  },
  "orig_nbformat": 4
 },
 "nbformat": 4,
 "nbformat_minor": 2
}
