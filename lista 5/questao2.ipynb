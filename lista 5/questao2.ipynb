{
 "cells": [
  {
   "cell_type": "code",
   "execution_count": null,
   "metadata": {},
   "outputs": [],
   "source": [
    "import pandas as pd\n",
    "import numpy as np"
   ]
  },
  {
   "cell_type": "code",
   "execution_count": null,
   "metadata": {},
   "outputs": [],
   "source": [
    "df = pd.read_csv(\"forestfires.csv\")\n",
    "df"
   ]
  },
  {
   "cell_type": "code",
   "execution_count": null,
   "metadata": {},
   "outputs": [],
   "source": [
    "#df.month.unique()\n",
    "# print(df.month.unique())\n",
    "\n",
    "# ordenar_meses = [\"jan\", \"fev\", \"mar\", \"apr\", \"may\", \"jun\", \"jul\", \"aug\", \"sep\", \"oct\", \"nov\", \"dec\"]\n",
    "\n",
    "df.loc[df.month == \"jan\",'month'] = 1\n",
    "df.loc[df.month == \"feb\",'month'] = 2\n",
    "df.loc[df.month == \"mar\",'month'] = 3\n",
    "df.loc[df.month == \"apr\",'month'] = 4\n",
    "df.loc[df.month == \"may\",'month'] = 5\n",
    "df.loc[df.month == \"jun\",'month'] = 6\n",
    "df.loc[df.month == \"jul\",'month'] = 7\n",
    "df.loc[df.month == \"aug\",'month'] = 8\n",
    "df.loc[df.month == \"sep\",'month'] = 9\n",
    "df.loc[df.month == \"oct\",'month'] = 10\n",
    "df.loc[df.month == \"nov\",'month'] = 11\n",
    "df.loc[df.month == \"dec\",'month'] = 12\n",
    "\n",
    "df\n",
    "\n"
   ]
  },
  {
   "cell_type": "code",
   "execution_count": null,
   "metadata": {},
   "outputs": [],
   "source": [
    "df.loc[df.day == \"mon\",'day'] = 1\n",
    "df.loc[df.day == \"tue\",'day'] = 2\n",
    "df.loc[df.day == \"wed\",'day'] = 3\n",
    "df.loc[df.day == \"thu\",'day'] = 4\n",
    "df.loc[df.day == \"fri\",'day'] = 5\n",
    "df.loc[df.day == \"sat\",'day'] = 6\n",
    "df.loc[df.day == \"sun\",'day'] = 7\n",
    "\n",
    "df"
   ]
  },
  {
   "cell_type": "code",
   "execution_count": null,
   "metadata": {},
   "outputs": [],
   "source": [
    "df[\"sen_month\"] = 0\n",
    "df[\"cos_month\"] = 0\n",
    "\n",
    "df[\"sen_day\"] = 0\n",
    "df[\"cos_day\"] = 0\n",
    "\n",
    "df"
   ]
  },
  {
   "cell_type": "code",
   "execution_count": null,
   "metadata": {},
   "outputs": [],
   "source": [
    "import math\n",
    "\n",
    "dois_pi = 2 * math.pi\n",
    "\n",
    "for i in range(df.month.size):\n",
    "    #print(int(df.month[i]))\n",
    "    df.sen_month[i] = np.sin((dois_pi * (int(df.month[i])/12)))\n",
    "    df.cos_month[i] = np.cos((dois_pi * (int(df.month[i])/12)))\n",
    "\n",
    "for i in range(df.day.size):\n",
    "    #print(int(df.month[i]))\n",
    "    df.sen_day[i] = np.sin((dois_pi * (int(df.day[i])/7)))\n",
    "    df.cos_day[i] = np.cos((dois_pi * (int(df.day[i])/7)))\n",
    "\n",
    "df.drop([\"day\", \"month\"], axis=1, inplace=True)\n",
    "    \n",
    "df\n",
    "        "
   ]
  }
 ],
 "metadata": {
  "interpreter": {
   "hash": "916dbcbb3f70747c44a77c7bcd40155683ae19c65e1c03b4aa3499c5328201f1"
  },
  "kernelspec": {
   "display_name": "Python 3.8.10 64-bit",
   "language": "python",
   "name": "python3"
  },
  "language_info": {
   "codemirror_mode": {
    "name": "ipython",
    "version": 3
   },
   "file_extension": ".py",
   "mimetype": "text/x-python",
   "name": "python",
   "nbconvert_exporter": "python",
   "pygments_lexer": "ipython3",
   "version": "3.8.10"
  },
  "orig_nbformat": 4
 },
 "nbformat": 4,
 "nbformat_minor": 2
}
