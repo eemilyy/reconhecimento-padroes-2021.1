{
 "cells": [
  {
   "cell_type": "code",
   "execution_count": 5,
   "metadata": {},
   "outputs": [
    {
     "name": "stderr",
     "output_type": "stream",
     "text": [
      "/home/emily/.local/lib/python3.8/site-packages/sklearn/neural_network/_multilayer_perceptron.py:692: ConvergenceWarning: Stochastic Optimizer: Maximum iterations (35) reached and the optimization hasn't converged yet.\n",
      "  warnings.warn(\n"
     ]
    },
    {
     "data": {
      "text/plain": [
       "0.6853932584269663"
      ]
     },
     "execution_count": 5,
     "metadata": {},
     "output_type": "execute_result"
    }
   ],
   "source": [
    "import pandas as pd\n",
    "import numpy as np\n",
    "from sklearn.model_selection import train_test_split\n",
    "from sklearn.neural_network import MLPClassifier\n",
    "from sklearn.datasets import make_classification\n",
    "\n",
    "df = pd.read_csv(\"wine.data\", header=None)\n",
    "df\n",
    "\n",
    "x = df[df.columns[1:]]\n",
    "y = df[df.columns[0]]\n",
    "#x, y = make_classification(n_samples=100, random_state=1, solver='sgd')\n",
    "\n",
    "\n",
    "mlp = MLPClassifier(solver='adam', random_state=1, max_iter=35, verbose=False, learning_rate='constant', \n",
    "                    hidden_layer_sizes=(1,2), learning_rate_init=0.5, activation='identity', momentum=1, tol=0.01)\n",
    "\n",
    "treinoX, testeX, treinoY, testeY = train_test_split(x,y,test_size=0.50, random_state=1)\n",
    "\n",
    "mlp.fit(treinoX, treinoY)\n",
    "saida = mlp.predict(testeX)\n",
    "#saida_teste = mlp.predict(testeY)\n",
    "#print(\"Saida\\t \", saida)    \n",
    "#print(\"\\n\")\n",
    "#\n",
    "#print(\"Desejada\\t\", testeY)\n",
    "\n",
    "mlp.score(testeX, testeY)\n",
    "\n",
    "# print(testeY)\n",
    "# print(treinoY)\n",
    "#mlp = MLPClassifier(solver='sgd', random_state=1, max_iter=50, verbose=True).fit(treinoX, treinoY)\n",
    "#\n",
    "#clf.predict_proba(testeX[:1])"
   ]
  }
 ],
 "metadata": {
  "interpreter": {
   "hash": "916dbcbb3f70747c44a77c7bcd40155683ae19c65e1c03b4aa3499c5328201f1"
  },
  "kernelspec": {
   "display_name": "Python 3.8.10 64-bit",
   "language": "python",
   "name": "python3"
  },
  "language_info": {
   "codemirror_mode": {
    "name": "ipython",
    "version": 3
   },
   "file_extension": ".py",
   "mimetype": "text/x-python",
   "name": "python",
   "nbconvert_exporter": "python",
   "pygments_lexer": "ipython3",
   "version": "3.8.10"
  },
  "orig_nbformat": 4
 },
 "nbformat": 4,
 "nbformat_minor": 2
}
