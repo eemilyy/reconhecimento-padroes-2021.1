{
 "cells": [
  {
   "cell_type": "code",
   "execution_count": 4,
   "metadata": {},
   "outputs": [],
   "source": [
    "import pandas as pd\n",
    "import numpy as np\n",
    "from sklearn.model_selection import train_test_split\n",
    "from sklearn.neural_network import MLPClassifier"
   ]
  },
  {
   "cell_type": "code",
   "execution_count": 5,
   "metadata": {},
   "outputs": [
    {
     "data": {
      "text/html": [
       "<div>\n",
       "<style scoped>\n",
       "    .dataframe tbody tr th:only-of-type {\n",
       "        vertical-align: middle;\n",
       "    }\n",
       "\n",
       "    .dataframe tbody tr th {\n",
       "        vertical-align: top;\n",
       "    }\n",
       "\n",
       "    .dataframe thead th {\n",
       "        text-align: right;\n",
       "    }\n",
       "</style>\n",
       "<table border=\"1\" class=\"dataframe\">\n",
       "  <thead>\n",
       "    <tr style=\"text-align: right;\">\n",
       "      <th></th>\n",
       "      <th>x</th>\n",
       "      <th>y</th>\n",
       "      <th>class</th>\n",
       "    </tr>\n",
       "  </thead>\n",
       "  <tbody>\n",
       "    <tr>\n",
       "      <th>0</th>\n",
       "      <td>0.000</td>\n",
       "      <td>0.000</td>\n",
       "      <td>0</td>\n",
       "    </tr>\n",
       "    <tr>\n",
       "      <th>1</th>\n",
       "      <td>0.001</td>\n",
       "      <td>0.010</td>\n",
       "      <td>0</td>\n",
       "    </tr>\n",
       "    <tr>\n",
       "      <th>2</th>\n",
       "      <td>0.006</td>\n",
       "      <td>0.019</td>\n",
       "      <td>0</td>\n",
       "    </tr>\n",
       "    <tr>\n",
       "      <th>3</th>\n",
       "      <td>0.016</td>\n",
       "      <td>0.026</td>\n",
       "      <td>0</td>\n",
       "    </tr>\n",
       "    <tr>\n",
       "      <th>4</th>\n",
       "      <td>0.021</td>\n",
       "      <td>0.035</td>\n",
       "      <td>0</td>\n",
       "    </tr>\n",
       "    <tr>\n",
       "      <th>...</th>\n",
       "      <td>...</td>\n",
       "      <td>...</td>\n",
       "      <td>...</td>\n",
       "    </tr>\n",
       "    <tr>\n",
       "      <th>295</th>\n",
       "      <td>-0.461</td>\n",
       "      <td>0.842</td>\n",
       "      <td>2</td>\n",
       "    </tr>\n",
       "    <tr>\n",
       "      <th>296</th>\n",
       "      <td>-0.601</td>\n",
       "      <td>0.761</td>\n",
       "      <td>2</td>\n",
       "    </tr>\n",
       "    <tr>\n",
       "      <th>297</th>\n",
       "      <td>-0.496</td>\n",
       "      <td>0.845</td>\n",
       "      <td>2</td>\n",
       "    </tr>\n",
       "    <tr>\n",
       "      <th>298</th>\n",
       "      <td>-0.628</td>\n",
       "      <td>0.766</td>\n",
       "      <td>2</td>\n",
       "    </tr>\n",
       "    <tr>\n",
       "      <th>299</th>\n",
       "      <td>-0.473</td>\n",
       "      <td>0.881</td>\n",
       "      <td>2</td>\n",
       "    </tr>\n",
       "  </tbody>\n",
       "</table>\n",
       "<p>300 rows × 3 columns</p>\n",
       "</div>"
      ],
      "text/plain": [
       "         x      y  class\n",
       "0    0.000  0.000      0\n",
       "1    0.001  0.010      0\n",
       "2    0.006  0.019      0\n",
       "3    0.016  0.026      0\n",
       "4    0.021  0.035      0\n",
       "..     ...    ...    ...\n",
       "295 -0.461  0.842      2\n",
       "296 -0.601  0.761      2\n",
       "297 -0.496  0.845      2\n",
       "298 -0.628  0.766      2\n",
       "299 -0.473  0.881      2\n",
       "\n",
       "[300 rows x 3 columns]"
      ]
     },
     "execution_count": 5,
     "metadata": {},
     "output_type": "execute_result"
    }
   ],
   "source": [
    "df = pd.read_csv(\"spiral.csv\")\n",
    "df"
   ]
  },
  {
   "cell_type": "code",
   "execution_count": 6,
   "metadata": {},
   "outputs": [
    {
     "name": "stdout",
     "output_type": "stream",
     "text": [
      "Iteration 1, loss = 1.11224025\n",
      "Iteration 2, loss = 1.19372089\n",
      "Iteration 3, loss = 1.11339967\n",
      "Iteration 4, loss = 1.10553839\n",
      "Iteration 5, loss = 1.12167445\n",
      "Iteration 6, loss = 1.11993343\n",
      "Iteration 7, loss = 1.10824110\n",
      "Iteration 8, loss = 1.10043881\n",
      "Iteration 9, loss = 1.10034673\n",
      "Iteration 10, loss = 1.10471746\n",
      "Iteration 11, loss = 1.10862599\n",
      "Iteration 12, loss = 1.10876320\n",
      "Iteration 13, loss = 1.10521241\n",
      "Iteration 14, loss = 1.10079732\n",
      "Iteration 15, loss = 1.09860042\n",
      "Iteration 16, loss = 1.09966637\n",
      "Iteration 17, loss = 1.10235795\n",
      "Iteration 18, loss = 1.10400315\n",
      "Iteration 19, loss = 1.10329357\n",
      "Iteration 20, loss = 1.10101762\n",
      "Iteration 21, loss = 1.09897269\n",
      "Iteration 22, loss = 1.09848170\n",
      "Iteration 23, loss = 1.09952741\n",
      "Iteration 24, loss = 1.10091187\n",
      "Iteration 25, loss = 1.10133965\n",
      "Iteration 26, loss = 1.10050572\n",
      "Iteration 27, loss = 1.09918899\n",
      "Iteration 28, loss = 1.09843130\n",
      "Iteration 29, loss = 1.09865387\n",
      "Iteration 30, loss = 1.09941760\n",
      "Iteration 31, loss = 1.09992262\n",
      "Iteration 32, loss = 1.09972881\n",
      "Iteration 33, loss = 1.09905813\n",
      "Training loss did not improve more than tol=0.000100 for 10 consecutive epochs. Stopping.\n"
     ]
    },
    {
     "data": {
      "text/plain": [
       "0.32666666666666666"
      ]
     },
     "execution_count": 6,
     "metadata": {},
     "output_type": "execute_result"
    }
   ],
   "source": [
    "x = df[df.columns[0:-1]]\n",
    "y = df[df.columns[-1]]\n",
    "\n",
    "mlp = MLPClassifier(max_iter=35, verbose=True, learning_rate='constant', hidden_layer_sizes=(1,2,3), learning_rate_init=0.3, activation='logistic',)\n",
    "\n",
    "treinoX, testeX, treinoY, testeY = train_test_split(x,y,test_size=0.50, random_state=1)\n",
    "\n",
    "mlp.fit(treinoX, treinoY)\n",
    "saida = mlp.predict(testeX)\n",
    "\n",
    "mlp.score(testeX, testeY)"
   ]
  }
 ],
 "metadata": {
  "interpreter": {
   "hash": "916dbcbb3f70747c44a77c7bcd40155683ae19c65e1c03b4aa3499c5328201f1"
  },
  "kernelspec": {
   "display_name": "Python 3.8.10 64-bit",
   "language": "python",
   "name": "python3"
  },
  "language_info": {
   "codemirror_mode": {
    "name": "ipython",
    "version": 3
   },
   "file_extension": ".py",
   "mimetype": "text/x-python",
   "name": "python",
   "nbconvert_exporter": "python",
   "pygments_lexer": "ipython3",
   "version": "3.8.10"
  },
  "orig_nbformat": 4
 },
 "nbformat": 4,
 "nbformat_minor": 2
}
