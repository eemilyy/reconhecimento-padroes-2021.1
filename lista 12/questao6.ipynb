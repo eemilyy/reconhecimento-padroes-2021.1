{
 "cells": [
  {
   "cell_type": "code",
   "execution_count": null,
   "metadata": {},
   "outputs": [],
   "source": [
    "import numpy as np\n",
    "import matplotlib.pyplot as plt\n",
    "import cv2\n",
    "\n",
    "image = cv2.imread(\"imagens/Fig1016(a)(building_original).png\", cv2.IMREAD_GRAYSCALE)\n",
    "plt.imshow(image, 'gray')\n",
    "plt.axis(\"off\")\n",
    "plt.show()"
   ]
  },
  {
   "cell_type": "markdown",
   "metadata": {},
   "source": [
    "utilizando o gradiente diretamente na imagem;\n",
    "\n",
    "https://docs.opencv.org/3.4/d2/d2c/tutorial_sobel_derivatives.html"
   ]
  },
  {
   "cell_type": "code",
   "execution_count": null,
   "metadata": {},
   "outputs": [],
   "source": [
    "sobelx = cv2.Sobel(image, cv2.CV_64F, 1, 0, ksize=5)\n",
    " \n",
    "sobely = cv2.Sobel(image, cv2.CV_64F, 0, 1, ksize=5)\n",
    "\n",
    "sobel = cv2.addWeighted(sobelx, 0.5, sobely, 0.5, 0)\n",
    "\n",
    "plt.imshow(sobel, cmap='gray')"
   ]
  },
  {
   "cell_type": "markdown",
   "metadata": {},
   "source": [
    "utilizando o gradiente na imagem suavizada com um ltro de média 5x5;"
   ]
  },
  {
   "cell_type": "code",
   "execution_count": null,
   "metadata": {},
   "outputs": [],
   "source": [
    "ksize = (5, 5)  # Escolhe o tamanho, ex: 5x5\n",
    "img = cv2.blur(image, ksize) # gera uma nova imagem com o filtro\n",
    "\n",
    "sobelx = cv2.Sobel(img, cv2.CV_64F, 1, 0, ksize=5)\n",
    " \n",
    "sobely = cv2.Sobel(img, cv2.CV_64F, 0, 1, ksize=5)\n",
    "\n",
    "sobel = cv2.addWeighted(sobelx, 0.5, sobely, 0.5, 0)\n",
    "\n",
    "plt.imshow(sobel, cmap='gray')"
   ]
  },
  {
   "cell_type": "markdown",
   "metadata": {},
   "source": [
    "utilizando um limiar 80 no resultado da letra (a);"
   ]
  },
  {
   "cell_type": "code",
   "execution_count": null,
   "metadata": {},
   "outputs": [],
   "source": [
    "sobelx = cv2.Sobel(image, cv2.CV_64F, 1, 0, ksize=5)\n",
    "sobely = cv2.Sobel(image, cv2.CV_64F, 0, 1, ksize=5)\n",
    " \n",
    "sobel = cv2.addWeighted(sobelx, 0.5, sobely, 0.5, 0)\n",
    "\n",
    "plt.imshow(sobel, cmap='gray')\n",
    "\n",
    "for i in range(sobel.shape[0]):\n",
    "    for j in range(sobel.shape[1]):\n",
    "        if sobel [i][j] < 80:\n",
    "            sobel[i][j] = 0\n",
    "        else:\n",
    "            sobel[i][j] = 255\n",
    "\n",
    "plt.imshow(sobel, 'gray')\n",
    "plt.axis(\"off\")\n",
    "plt.show()"
   ]
  },
  {
   "cell_type": "markdown",
   "metadata": {},
   "source": [
    "utilizando um limiar 80 no resultado da letra (b)."
   ]
  },
  {
   "cell_type": "code",
   "execution_count": null,
   "metadata": {},
   "outputs": [],
   "source": [
    "ksize = (5, 5)  # Escolhe o tamanho, ex: 5x5\n",
    "img = cv2.blur(image, ksize) # gera uma nova imagem com o filtro\n",
    "\n",
    "sobelx = cv2.Sobel(img, cv2.CV_64F, 1, 0, ksize=5)\n",
    " \n",
    "sobely = cv2.Sobel(img, cv2.CV_64F, 0, 1, ksize=5)\n",
    "\n",
    "sobel = cv2.addWeighted(sobelx, 2, sobely, 2, 0)\n",
    "\n",
    "plt.imshow(sobel, cmap='gray')\n",
    "\n",
    "for i in range(sobel.shape[0]):\n",
    "    for j in range(sobel.shape[1]):\n",
    "        if sobel [i][j] < 80:\n",
    "            sobel[i][j] = 0\n",
    "        else:\n",
    "            sobel[i][j] = 255\n",
    "\n",
    "plt.imshow(sobel, 'gray')\n",
    "plt.axis(\"off\")\n",
    "plt.show()"
   ]
  }
 ],
 "metadata": {
  "interpreter": {
   "hash": "916dbcbb3f70747c44a77c7bcd40155683ae19c65e1c03b4aa3499c5328201f1"
  },
  "kernelspec": {
   "display_name": "Python 3.8.10 64-bit",
   "language": "python",
   "name": "python3"
  },
  "language_info": {
   "codemirror_mode": {
    "name": "ipython",
    "version": 3
   },
   "file_extension": ".py",
   "mimetype": "text/x-python",
   "name": "python",
   "nbconvert_exporter": "python",
   "pygments_lexer": "ipython3",
   "version": "3.8.10"
  },
  "orig_nbformat": 4
 },
 "nbformat": 4,
 "nbformat_minor": 2
}
